{
 "cells": [
  {
   "cell_type": "code",
   "execution_count": 1,
   "id": "9da7fb42",
   "metadata": {},
   "outputs": [],
   "source": [
    "import pandas as pd\n",
    "import numpy as np\n",
    "import matplotlib.pyplot as plt\n",
    "import matplotlib.colors as mcolors\n",
    "import matplotlib.cm as cm\n",
    "import scipy.stats as stats\n",
    "from scipy.stats import f_oneway\n",
    "from scipy.stats import ttest_ind\n",
    "from scipy.stats import ttest_rel\n",
    "from scipy.stats import wilcoxon\n",
    "from scipy.stats import describe\n",
    "from scipy.stats import mannwhitneyu\n",
    "from scipy.stats import kruskal\n",
    "from scipy.optimize import curve_fit\n",
    "from sklearn.linear_model import LinearRegression\n",
    "import sklearn.metrics\n",
    "import seaborn as sns\n",
    "from upsetplot import UpSet"
   ]
  },
  {
   "cell_type": "code",
   "execution_count": 152,
   "id": "1db7462c",
   "metadata": {},
   "outputs": [],
   "source": [
    "hs_ssal_tpm = pd.read_csv('../Data/deseq_hsdata/ssal_tpm.tsv', sep='\\t')\n",
    "hs_psal_tpm = pd.read_csv('../Data/deseq_hsdata/psal_tpm.tsv', sep='\\t')\n",
    "hs_srsem_tpm = pd.read_csv('../Data/deseq_hsdata/srsem_tpm.tsv', sep='\\t')\n",
    "hs_sfc_tpm = pd.read_csv('../Data/deseq_hsdata/sfc_tpm.tsv', sep='\\t')\n",
    "hs_hfc_tpm = pd.read_csv('../Data/deseq_hsdata/hfc_tpm.tsv', sep='\\t')\n",
    "hs_tpm = hs_ssal_tpm.merge(hs_srsem_tpm.merge(hs_sfc_tpm.merge(hs_hfc_tpm.merge(hs_psal_tpm, on='gene_id', how='outer', suffixes=('', '_psal')), on='gene_id', how='outer', suffixes=('', '_hfc')), on='gene_id', how='outer', suffixes=('', '_sfc')), on='gene_id', how='outer', suffixes=('_ssal', '_srsem'))\n",
    "hs_tpm = hs_tpm.rename(columns={'gene_name_ssal':'gene_name'}).drop(['gene_name_srsem', 'gene_name_hfc', 'gene_name_psal', 'transcript_id(s)'], axis=1)"
   ]
  },
  {
   "cell_type": "code",
   "execution_count": 151,
   "id": "ed36d282",
   "metadata": {},
   "outputs": [],
   "source": [
    "# read merged tpm dataframes\n",
    "#hs_tpm = pd.read_csv('../Data/hs_conc_tpm.tsv', sep='\\t')\n",
    "#at_tpm = pd.read_csv('../Data/at_conc_tpm.tsv', sep='\\t')\n",
    "#dr_tpm = pd.read_csv('../Data/dr_conc_tpm.tsv', sep='\\t')\n",
    "at_ssal_tpm = pd.read_csv('../Data/deseq_tairdata/ssal_tpm.tsv', sep='\\t')\n",
    "at_psal_tpm = pd.read_csv('../Data/deseq_tairdata/psal_tpm.tsv', sep='\\t')\n",
    "at_srsem_tpm = pd.read_csv('../Data/deseq_tairdata/srsem_tpm.tsv', sep='\\t')\n",
    "at_sfc_tpm = pd.read_csv('../Data/deseq_tairdata/sfc_tpm.tsv', sep='\\t')\n",
    "at_hfc_tpm = pd.read_csv('../Data/deseq_tairdata/hfc_tpm.tsv', sep='\\t')\n",
    "at_tpm = at_ssal_tpm.merge(at_srsem_tpm.merge(at_sfc_tpm.merge(at_hfc_tpm.merge(at_psal_tpm, on='gene_id', how='outer', suffixes=('', '_psal')), on='gene_id', how='outer', suffixes=('', '_hfc')), on='gene_id', how='outer', suffixes=('', '_sfc')), on='gene_id', how='outer', suffixes=('_ssal', '_srsem'))\n",
    "at_tpm = at_tpm.rename(columns={'gene_name_ssal':'gene_name'}).drop(['gene_name_srsem', 'gene_name_psal', 'gene_name_hfc','transcript_id(s)'], axis=1)"
   ]
  },
  {
   "cell_type": "code",
   "execution_count": 150,
   "id": "3e6c2393",
   "metadata": {},
   "outputs": [],
   "source": [
    "dr_colnames = {'SRR3655791':'sham11', 'SRR3655792':'sham12', 'SRR3655793':'sham21',\n",
    "       'SRR3655794':'sham22', 'SRR3655795':'sham31', 'SRR3655796':'sham32', 'SRR3655797':'sbs11', 'SRR3655798':'sbs12',\n",
    "       'SRR3655799':'sbs21', 'SRR3655800':'sbs22', 'SRR3655801':'sbs31', 'SRR3655802':'sbs32'}\n",
    "dr_ssal_tpm = pd.read_csv('../Data/deseq_daniodata/ssal_tpm.tsv', sep='\\t').rename(columns=dr_colnames)\n",
    "dr_psal_tpm = pd.read_csv('../Data/deseq_daniodata/psal_tpm.tsv', sep='\\t').rename(columns=dr_colnames)\n",
    "dr_srsem_tpm = pd.read_csv('../Data/deseq_daniodata/srsem_tpm.tsv', sep='\\t').rename(columns=dr_colnames)\n",
    "dr_sfc_tpm = pd.read_csv('../Data/deseq_daniodata/sfc_tpm.tsv', sep='\\t')\n",
    "dr_hfc_tpm = pd.read_csv('../Data/deseq_daniodata/hfc_tpm.tsv', sep='\\t')\n",
    "dr_tpm = dr_ssal_tpm.merge(dr_srsem_tpm.merge(dr_sfc_tpm.merge(dr_hfc_tpm.merge(dr_psal_tpm, on='gene_id', how='outer', suffixes=('', '_psal')), on='gene_id', how='outer', suffixes=('', '_hfc')), on='gene_id', how='outer', suffixes=('', '_sfc')), on='gene_id', how='outer', suffixes=('_ssal', '_srsem'))\n",
    "dr_tpm = dr_tpm.rename(columns={'gene_name_ssal':'gene_name'}).drop(['gene_name_srsem', 'gene_name_hfc', 'gene_name_psal', 'transcript_id(s)'], axis=1)"
   ]
  },
  {
   "cell_type": "code",
   "execution_count": 22,
   "id": "a1b636d8",
   "metadata": {},
   "outputs": [],
   "source": [
    "hs_tpmcols = ['A1_ssal', 'A2_ssal','A3_ssal', 'A4_ssal', 'A5_ssal', 'B1_ssal', 'B2_ssal', 'B3_ssal',\n",
    "       'B4_ssal', 'B5_ssal','A1_srsem', 'A2_srsem',\n",
    "       'A3_srsem', 'A4_srsem', 'A5_srsem', 'B1_srsem', 'B2_srsem', 'B3_srsem',\n",
    "       'B4_srsem', 'B5_srsem', 'A1_sfc', 'A2_sfc', 'A3_sfc', 'A4_sfc',\n",
    "       'A5_sfc', 'B1_sfc', 'B2_sfc', 'B3_sfc', 'B4_sfc', 'B5_sfc', 'A1_hfc',\n",
    "       'A2_hfc', 'A3_hfc', 'A4_hfc', 'A5_hfc', 'B1_hfc', 'B2_hfc', 'B3_hfc',\n",
    "       'B4_hfc', 'B5_hfc', 'A1_psal', 'A2_psal', 'A3_psal', 'A4_psal',\n",
    "       'A5_psal', 'B1_psal', 'B2_psal', 'B3_psal', 'B4_psal', 'B5_psal']\n",
    "at_tpmcols = ['flight1_ssal', 'flight2_ssal','flight3_ssal', 'ground1_ssal', 'ground2_ssal', 'ground3_ssal',\n",
    "       'flight1_srsem', 'flight2_srsem', 'flight3_srsem',\n",
    "       'ground1_srsem', 'ground2_srsem', 'ground3_srsem', 'flight1_sfc',\n",
    "       'flight2_sfc', 'flight3_sfc', 'ground1_sfc', 'ground2_sfc',\n",
    "       'ground3_sfc', 'flight1_hfc', 'flight2_hfc', 'flight3_hfc',\n",
    "       'ground1_hfc', 'ground2_hfc', 'ground3_hfc', 'flight1_psal',\n",
    "       'flight2_psal', 'flight3_psal', 'ground1_psal', 'ground2_psal',\n",
    "       'ground3_psal']\n",
    "dr_tpmcols = ['sham11_ssal', 'sham12_ssal','sham21_ssal', 'sham22_ssal', 'sham31_ssal', 'sham32_ssal',\n",
    "       'sbs11_ssal', 'sbs12_ssal', 'sbs21_ssal', 'sbs22_ssal', 'sbs31_ssal',\n",
    "       'sbs32_ssal', 'sham11_srsem', 'sham12_srsem',\n",
    "       'sham21_srsem', 'sham22_srsem', 'sham31_srsem', 'sham32_srsem',\n",
    "       'sbs11_srsem', 'sbs12_srsem', 'sbs21_srsem', 'sbs22_srsem',\n",
    "       'sbs31_srsem', 'sbs32_srsem', 'sham11_sfc', 'sham12_sfc', 'sham21_sfc',\n",
    "       'sham22_sfc', 'sham31_sfc', 'sham32_sfc', 'sbs11_sfc', 'sbs12_sfc',\n",
    "       'sbs21_sfc', 'sbs22_sfc', 'sbs31_sfc', 'sbs32_sfc', 'sham11_hfc',\n",
    "       'sham12_hfc', 'sham21_hfc', 'sham22_hfc', 'sham31_hfc', 'sham32_hfc',\n",
    "       'sbs11_hfc', 'sbs12_hfc', 'sbs21_hfc', 'sbs22_hfc', 'sbs31_hfc',\n",
    "       'sbs32_hfc', 'sham11_psal', 'sham12_psal', 'sham21_psal', 'sham22_psal',\n",
    "       'sham31_psal', 'sham32_psal', 'sbs11_psal', 'sbs12_psal', 'sbs21_psal',\n",
    "       'sbs22_psal', 'sbs31_psal', 'sbs32_psal']"
   ]
  },
  {
   "cell_type": "code",
   "execution_count": 167,
   "id": "989f1b6c",
   "metadata": {},
   "outputs": [],
   "source": [
    "hs_tpm_mean = hs_tpm[hs_tpmcols].stack().mean()\n",
    "at_tpm_mean = at_tpm[at_tpmcols].stack().mean()\n",
    "dr_tpm_mean = dr_tpm[dr_tpmcols].stack().mean()\n",
    "\n",
    "hs_tpm_median = hs_tpm[hs_tpmcols].stack().median()\n",
    "at_tpm_median = at_tpm[at_tpmcols].stack().median()\n",
    "dr_tpm_median = dr_tpm[dr_tpmcols].stack().median()"
   ]
  },
  {
   "cell_type": "code",
   "execution_count": 168,
   "id": "d30447b4",
   "metadata": {},
   "outputs": [
    {
     "name": "stdout",
     "output_type": "stream",
     "text": [
      "MEAN hs: 16.628, at: 29.781, dr: 21.987\n"
     ]
    }
   ],
   "source": [
    "print('MEAN hs: {:.5}, at: {:.5}, dr: {:.5}'.format(hs_tpm_mean, at_tpm_mean, dr_tpm_mean))"
   ]
  },
  {
   "cell_type": "code",
   "execution_count": 169,
   "id": "dbeffdc4",
   "metadata": {},
   "outputs": [
    {
     "name": "stdout",
     "output_type": "stream",
     "text": [
      "MEDIAN hs: 0.023274, at: 2.8996, dr: 0.15913\n"
     ]
    }
   ],
   "source": [
    "print('MEDIAN hs: {:.5}, at: {:.5}, dr: {:.5}'.format(hs_tpm_median, at_tpm_median, dr_tpm_median))"
   ]
  },
  {
   "cell_type": "code",
   "execution_count": 145,
   "id": "4a992127",
   "metadata": {},
   "outputs": [],
   "source": [
    "# Get high expressed genes\n",
    "# genes which in at least one of the columns have a TPM greater than the mean/median\n",
    "#df.loc[(df > mean).any(axis=1)]\n",
    "\n",
    "def genelist(df, m):\n",
    "    df = df.drop('gene_name', axis=1).set_index('gene_id')\n",
    "    df = df.loc[(df > m).any(axis=1)]\n",
    "    genelist = list(df.index.values)\n",
    "    return df, genelist"
   ]
  },
  {
   "cell_type": "code",
   "execution_count": 155,
   "id": "5f1b1575",
   "metadata": {},
   "outputs": [],
   "source": [
    "hs_hiexgene_mean_df, hs_hiexgene_mean_lst = genelist(hs_tpm, hs_tpm_mean)\n",
    "hs_hiexgene_median_df, hs_hiexgene_median_lst = genelist(hs_tpm, hs_tpm_median)\n",
    "\n",
    "at_hiexgene_mean_df, at_hiexgene_mean_lst = genelist(at_tpm, at_tpm_mean)\n",
    "at_hiexgene_median_df, at_hiexgene_median_lst = genelist(at_tpm, at_tpm_median)\n",
    "\n",
    "dr_hiexgene_mean_df, dr_hiexgene_mean_lst = genelist(dr_tpm, dr_tpm_mean)\n",
    "dr_hiexgene_median_df, dr_hiexgene_median_lst = genelist(dr_tpm, dr_tpm_median)\n"
   ]
  },
  {
   "cell_type": "code",
   "execution_count": 166,
   "id": "dc1f0fce",
   "metadata": {},
   "outputs": [
    {
     "name": "stdout",
     "output_type": "stream",
     "text": [
      "Above MEAN\n",
      "hs: 9992 of 63769 genes with TPM greater than 16.628\n",
      "at: 7710 of 33694 genes with TPM greater than 29.781\n",
      "dr: 7576 of 47143 genes with TPM greater than 21.987\n",
      "Above MEDIAN\n",
      "hs: 47427 of 63769 genes with TPM greater than 0.023274\n",
      "at: 19121 of 33694 genes with TPM greater than 2.8996\n",
      "dr: 31875 of 47143 genes with TPM greater than 0.15913\n"
     ]
    }
   ],
   "source": [
    "print('Above MEAN')\n",
    "print('hs: {} of {} genes with TPM greater than {:.5}'.format(hs_hiexgene_mean_df.shape[0], hs_tpm.shape[0], hs_tpm_mean))\n",
    "print('at: {} of {} genes with TPM greater than {:.5}'.format(at_hiexgene_mean_df.shape[0], at_tpm.shape[0], at_tpm_mean))\n",
    "print('dr: {} of {} genes with TPM greater than {:.5}'.format(dr_hiexgene_mean_df.shape[0], dr_tpm.shape[0], dr_tpm_mean))\n",
    "\n",
    "print('Above MEDIAN')\n",
    "print('hs: {} of {} genes with TPM greater than {:.5}'.format(hs_hiexgene_median_df.shape[0], hs_tpm.shape[0], hs_tpm_median))\n",
    "print('at: {} of {} genes with TPM greater than {:.5}'.format(at_hiexgene_median_df.shape[0], at_tpm.shape[0], at_tpm_median))\n",
    "print('dr: {} of {} genes with TPM greater than {:.5}'.format(dr_hiexgene_median_df.shape[0], dr_tpm.shape[0], dr_tpm_median))\n"
   ]
  },
  {
   "cell_type": "code",
   "execution_count": 175,
   "id": "821d03da",
   "metadata": {},
   "outputs": [],
   "source": [
    "# write gene list to file\n",
    "with open(r'../Data/dr_hiexpr_lst.txt', 'w') as fp:\n",
    "    for item in dr_hiexgene_mean_lst:\n",
    "        # write each item on a new line\n",
    "        fp.write(\"%s\\n\" % item)"
   ]
  },
  {
   "cell_type": "code",
   "execution_count": 157,
   "id": "61956637",
   "metadata": {},
   "outputs": [
    {
     "data": {
      "text/plain": [
       "DescribeResult(nobs=3006910, minmax=(0.0, 774786.5), mean=16.628343826687207, variance=3590007.8581219157, skewness=376.37316621469654, kurtosis=145351.99713218026)"
      ]
     },
     "execution_count": 157,
     "metadata": {},
     "output_type": "execute_result"
    }
   ],
   "source": [
    "describe(hs_tpm[hs_tpmcols].stack())"
   ]
  },
  {
   "cell_type": "code",
   "execution_count": 158,
   "id": "f00800b7",
   "metadata": {},
   "outputs": [
    {
     "data": {
      "text/plain": [
       "DescribeResult(nobs=1007370, minmax=(0.0, 79521.655596), mean=29.780519551238374, variance=191602.34089137646, skewness=126.38642762925518, kurtosis=18781.2553287411)"
      ]
     },
     "execution_count": 158,
     "metadata": {},
     "output_type": "execute_result"
    }
   ],
   "source": [
    "describe(at_tpm[at_tpmcols].stack())"
   ]
  },
  {
   "cell_type": "code",
   "execution_count": 159,
   "id": "de7c1e40",
   "metadata": {},
   "outputs": [
    {
     "data": {
      "text/plain": [
       "DescribeResult(nobs=2728944, minmax=(0.0, 45165.839844), mean=21.986522002296855, variance=94012.73168713611, skewness=50.8343776665543, kurtosis=4059.149402215809)"
      ]
     },
     "execution_count": 159,
     "metadata": {},
     "output_type": "execute_result"
    }
   ],
   "source": [
    "describe(dr_tpm[dr_tpmcols].stack())"
   ]
  },
  {
   "cell_type": "code",
   "execution_count": null,
   "id": "d3fa42bc",
   "metadata": {},
   "outputs": [],
   "source": [
    "#plt.boxplot(hs_tpm[hs_tpmcols].stack())\n",
    "#plt.boxplot(at_tpm[at_tpmcols].stack())\n",
    "plt.violinplot(dr_tpm[dr_tpmcols].stack())"
   ]
  },
  {
   "cell_type": "code",
   "execution_count": 13,
   "id": "9c192d3e",
   "metadata": {},
   "outputs": [],
   "source": [
    "# read DEseq dataframes\n",
    "hs_de = pd.read_csv('../Data/hs_df_all.tsv', sep='\\t')\n",
    "at_de = pd.read_csv('../Data/at_df_all.tsv', sep='\\t')\n",
    "dr_de = pd.read_csv('../Data/dr_df_all.tsv', sep='\\t')"
   ]
  }
 ],
 "metadata": {
  "kernelspec": {
   "display_name": "Python 3 (ipykernel)",
   "language": "python",
   "name": "python3"
  },
  "language_info": {
   "codemirror_mode": {
    "name": "ipython",
    "version": 3
   },
   "file_extension": ".py",
   "mimetype": "text/x-python",
   "name": "python",
   "nbconvert_exporter": "python",
   "pygments_lexer": "ipython3",
   "version": "3.9.1"
  }
 },
 "nbformat": 4,
 "nbformat_minor": 5
}

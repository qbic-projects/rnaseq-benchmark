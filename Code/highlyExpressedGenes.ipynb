{
 "cells": [
  {
   "cell_type": "code",
   "execution_count": 206,
   "id": "10dab75a",
   "metadata": {},
   "outputs": [],
   "source": [
    "import os\n",
    "import pandas as pd\n",
    "import numpy as np\n",
    "import matplotlib.pyplot as plt\n",
    "import matplotlib.colors as mcolors\n",
    "import matplotlib.cm as cm\n",
    "import scipy.stats as stats\n",
    "from scipy.stats import f_oneway\n",
    "from scipy.stats import ttest_ind\n",
    "from scipy.stats import ttest_rel\n",
    "from scipy.stats import wilcoxon\n",
    "from scipy.stats import describe\n",
    "from scipy.stats import mannwhitneyu\n",
    "from scipy.stats import kruskal\n",
    "from scipy.optimize import curve_fit\n",
    "from sklearn.linear_model import LinearRegression\n",
    "import sklearn.metrics\n",
    "import seaborn as sns\n",
    "from upsetplot import UpSet"
   ]
  },
  {
   "cell_type": "code",
   "execution_count": 152,
   "id": "ec74dc74",
   "metadata": {},
   "outputs": [],
   "source": [
    "hs_ssal_tpm = pd.read_csv('../Data/deseq_hsdata/ssal_tpm.tsv', sep='\\t')\n",
    "hs_psal_tpm = pd.read_csv('../Data/deseq_hsdata/psal_tpm.tsv', sep='\\t')\n",
    "hs_srsem_tpm = pd.read_csv('../Data/deseq_hsdata/srsem_tpm.tsv', sep='\\t')\n",
    "hs_sfc_tpm = pd.read_csv('../Data/deseq_hsdata/sfc_tpm.tsv', sep='\\t')\n",
    "hs_hfc_tpm = pd.read_csv('../Data/deseq_hsdata/hfc_tpm.tsv', sep='\\t')\n",
    "hs_tpm = hs_ssal_tpm.merge(hs_srsem_tpm.merge(hs_sfc_tpm.merge(hs_hfc_tpm.merge(hs_psal_tpm, on='gene_id', how='outer', suffixes=('', '_psal')), on='gene_id', how='outer', suffixes=('', '_hfc')), on='gene_id', how='outer', suffixes=('', '_sfc')), on='gene_id', how='outer', suffixes=('_ssal', '_srsem'))\n",
    "hs_tpm = hs_tpm.rename(columns={'gene_name_ssal':'gene_name'}).drop(['gene_name_srsem', 'gene_name_hfc', 'gene_name_psal', 'transcript_id(s)'], axis=1)"
   ]
  },
  {
   "cell_type": "code",
   "execution_count": 151,
   "id": "d2093e58",
   "metadata": {},
   "outputs": [],
   "source": [
    "# read merged tpm dataframes\n",
    "#hs_tpm = pd.read_csv('../Data/hs_conc_tpm.tsv', sep='\\t')\n",
    "#at_tpm = pd.read_csv('../Data/at_conc_tpm.tsv', sep='\\t')\n",
    "#dr_tpm = pd.read_csv('../Data/dr_conc_tpm.tsv', sep='\\t')\n",
    "at_ssal_tpm = pd.read_csv('../Data/deseq_tairdata/ssal_tpm.tsv', sep='\\t')\n",
    "at_psal_tpm = pd.read_csv('../Data/deseq_tairdata/psal_tpm.tsv', sep='\\t')\n",
    "at_srsem_tpm = pd.read_csv('../Data/deseq_tairdata/srsem_tpm.tsv', sep='\\t')\n",
    "at_sfc_tpm = pd.read_csv('../Data/deseq_tairdata/sfc_tpm.tsv', sep='\\t')\n",
    "at_hfc_tpm = pd.read_csv('../Data/deseq_tairdata/hfc_tpm.tsv', sep='\\t')\n",
    "at_tpm = at_ssal_tpm.merge(at_srsem_tpm.merge(at_sfc_tpm.merge(at_hfc_tpm.merge(at_psal_tpm, on='gene_id', how='outer', suffixes=('', '_psal')), on='gene_id', how='outer', suffixes=('', '_hfc')), on='gene_id', how='outer', suffixes=('', '_sfc')), on='gene_id', how='outer', suffixes=('_ssal', '_srsem'))\n",
    "at_tpm = at_tpm.rename(columns={'gene_name_ssal':'gene_name'}).drop(['gene_name_srsem', 'gene_name_psal', 'gene_name_hfc','transcript_id(s)'], axis=1)"
   ]
  },
  {
   "cell_type": "code",
   "execution_count": 150,
   "id": "ff497ae8",
   "metadata": {},
   "outputs": [],
   "source": [
    "dr_colnames = {'SRR3655791':'sham11', 'SRR3655792':'sham12', 'SRR3655793':'sham21',\n",
    "       'SRR3655794':'sham22', 'SRR3655795':'sham31', 'SRR3655796':'sham32', 'SRR3655797':'sbs11', 'SRR3655798':'sbs12',\n",
    "       'SRR3655799':'sbs21', 'SRR3655800':'sbs22', 'SRR3655801':'sbs31', 'SRR3655802':'sbs32'}\n",
    "dr_ssal_tpm = pd.read_csv('../Data/deseq_daniodata/ssal_tpm.tsv', sep='\\t').rename(columns=dr_colnames)\n",
    "dr_psal_tpm = pd.read_csv('../Data/deseq_daniodata/psal_tpm.tsv', sep='\\t').rename(columns=dr_colnames)\n",
    "dr_srsem_tpm = pd.read_csv('../Data/deseq_daniodata/srsem_tpm.tsv', sep='\\t').rename(columns=dr_colnames)\n",
    "dr_sfc_tpm = pd.read_csv('../Data/deseq_daniodata/sfc_tpm.tsv', sep='\\t')\n",
    "dr_hfc_tpm = pd.read_csv('../Data/deseq_daniodata/hfc_tpm.tsv', sep='\\t')\n",
    "dr_tpm = dr_ssal_tpm.merge(dr_srsem_tpm.merge(dr_sfc_tpm.merge(dr_hfc_tpm.merge(dr_psal_tpm, on='gene_id', how='outer', suffixes=('', '_psal')), on='gene_id', how='outer', suffixes=('', '_hfc')), on='gene_id', how='outer', suffixes=('', '_sfc')), on='gene_id', how='outer', suffixes=('_ssal', '_srsem'))\n",
    "dr_tpm = dr_tpm.rename(columns={'gene_name_ssal':'gene_name'}).drop(['gene_name_srsem', 'gene_name_hfc', 'gene_name_psal', 'transcript_id(s)'], axis=1)"
   ]
  },
  {
   "cell_type": "code",
   "execution_count": 22,
   "id": "120e71b0",
   "metadata": {},
   "outputs": [],
   "source": [
    "hs_tpmcols = ['A1_ssal', 'A2_ssal','A3_ssal', 'A4_ssal', 'A5_ssal', 'B1_ssal', 'B2_ssal', 'B3_ssal',\n",
    "       'B4_ssal', 'B5_ssal','A1_srsem', 'A2_srsem',\n",
    "       'A3_srsem', 'A4_srsem', 'A5_srsem', 'B1_srsem', 'B2_srsem', 'B3_srsem',\n",
    "       'B4_srsem', 'B5_srsem', 'A1_sfc', 'A2_sfc', 'A3_sfc', 'A4_sfc',\n",
    "       'A5_sfc', 'B1_sfc', 'B2_sfc', 'B3_sfc', 'B4_sfc', 'B5_sfc', 'A1_hfc',\n",
    "       'A2_hfc', 'A3_hfc', 'A4_hfc', 'A5_hfc', 'B1_hfc', 'B2_hfc', 'B3_hfc',\n",
    "       'B4_hfc', 'B5_hfc', 'A1_psal', 'A2_psal', 'A3_psal', 'A4_psal',\n",
    "       'A5_psal', 'B1_psal', 'B2_psal', 'B3_psal', 'B4_psal', 'B5_psal']\n",
    "at_tpmcols = ['flight1_ssal', 'flight2_ssal','flight3_ssal', 'ground1_ssal', 'ground2_ssal', 'ground3_ssal',\n",
    "       'flight1_srsem', 'flight2_srsem', 'flight3_srsem',\n",
    "       'ground1_srsem', 'ground2_srsem', 'ground3_srsem', 'flight1_sfc',\n",
    "       'flight2_sfc', 'flight3_sfc', 'ground1_sfc', 'ground2_sfc',\n",
    "       'ground3_sfc', 'flight1_hfc', 'flight2_hfc', 'flight3_hfc',\n",
    "       'ground1_hfc', 'ground2_hfc', 'ground3_hfc', 'flight1_psal',\n",
    "       'flight2_psal', 'flight3_psal', 'ground1_psal', 'ground2_psal',\n",
    "       'ground3_psal']\n",
    "dr_tpmcols = ['sham11_ssal', 'sham12_ssal','sham21_ssal', 'sham22_ssal', 'sham31_ssal', 'sham32_ssal',\n",
    "       'sbs11_ssal', 'sbs12_ssal', 'sbs21_ssal', 'sbs22_ssal', 'sbs31_ssal',\n",
    "       'sbs32_ssal', 'sham11_srsem', 'sham12_srsem',\n",
    "       'sham21_srsem', 'sham22_srsem', 'sham31_srsem', 'sham32_srsem',\n",
    "       'sbs11_srsem', 'sbs12_srsem', 'sbs21_srsem', 'sbs22_srsem',\n",
    "       'sbs31_srsem', 'sbs32_srsem', 'sham11_sfc', 'sham12_sfc', 'sham21_sfc',\n",
    "       'sham22_sfc', 'sham31_sfc', 'sham32_sfc', 'sbs11_sfc', 'sbs12_sfc',\n",
    "       'sbs21_sfc', 'sbs22_sfc', 'sbs31_sfc', 'sbs32_sfc', 'sham11_hfc',\n",
    "       'sham12_hfc', 'sham21_hfc', 'sham22_hfc', 'sham31_hfc', 'sham32_hfc',\n",
    "       'sbs11_hfc', 'sbs12_hfc', 'sbs21_hfc', 'sbs22_hfc', 'sbs31_hfc',\n",
    "       'sbs32_hfc', 'sham11_psal', 'sham12_psal', 'sham21_psal', 'sham22_psal',\n",
    "       'sham31_psal', 'sham32_psal', 'sbs11_psal', 'sbs12_psal', 'sbs21_psal',\n",
    "       'sbs22_psal', 'sbs31_psal', 'sbs32_psal']"
   ]
  },
  {
   "cell_type": "code",
   "execution_count": 167,
   "id": "dc164e3f",
   "metadata": {},
   "outputs": [],
   "source": [
    "hs_tpm_mean = hs_tpm[hs_tpmcols].stack().mean()\n",
    "at_tpm_mean = at_tpm[at_tpmcols].stack().mean()\n",
    "dr_tpm_mean = dr_tpm[dr_tpmcols].stack().mean()\n",
    "\n",
    "hs_tpm_median = hs_tpm[hs_tpmcols].stack().median()\n",
    "at_tpm_median = at_tpm[at_tpmcols].stack().median()\n",
    "dr_tpm_median = dr_tpm[dr_tpmcols].stack().median()"
   ]
  },
  {
   "cell_type": "code",
   "execution_count": 168,
   "id": "c56c2ad1",
   "metadata": {},
   "outputs": [
    {
     "name": "stdout",
     "output_type": "stream",
     "text": [
      "MEAN hs: 16.628, at: 29.781, dr: 21.987\n"
     ]
    }
   ],
   "source": [
    "print('MEAN hs: {:.5}, at: {:.5}, dr: {:.5}'.format(hs_tpm_mean, at_tpm_mean, dr_tpm_mean))"
   ]
  },
  {
   "cell_type": "code",
   "execution_count": 169,
   "id": "9f79cd38",
   "metadata": {},
   "outputs": [
    {
     "name": "stdout",
     "output_type": "stream",
     "text": [
      "MEDIAN hs: 0.023274, at: 2.8996, dr: 0.15913\n"
     ]
    }
   ],
   "source": [
    "print('MEDIAN hs: {:.5}, at: {:.5}, dr: {:.5}'.format(hs_tpm_median, at_tpm_median, dr_tpm_median))"
   ]
  },
  {
   "cell_type": "code",
   "execution_count": 145,
   "id": "8b704d2a",
   "metadata": {},
   "outputs": [],
   "source": [
    "# Get high expressed genes\n",
    "# genes which in at least one of the columns have a TPM greater than the mean/median\n",
    "#df.loc[(df > mean).any(axis=1)]\n",
    "\n",
    "def genelist(df, m):\n",
    "    df = df.drop('gene_name', axis=1).set_index('gene_id')\n",
    "    df = df.loc[(df > m).any(axis=1)]\n",
    "    genelist = list(df.index.values)\n",
    "    return df, genelist"
   ]
  },
  {
   "cell_type": "code",
   "execution_count": 155,
   "id": "67a62653",
   "metadata": {},
   "outputs": [],
   "source": [
    "hs_hiexgene_mean_df, hs_hiexgene_mean_lst = genelist(hs_tpm, hs_tpm_mean)\n",
    "hs_hiexgene_median_df, hs_hiexgene_median_lst = genelist(hs_tpm, hs_tpm_median)\n",
    "\n",
    "at_hiexgene_mean_df, at_hiexgene_mean_lst = genelist(at_tpm, at_tpm_mean)\n",
    "at_hiexgene_median_df, at_hiexgene_median_lst = genelist(at_tpm, at_tpm_median)\n",
    "\n",
    "dr_hiexgene_mean_df, dr_hiexgene_mean_lst = genelist(dr_tpm, dr_tpm_mean)\n",
    "dr_hiexgene_median_df, dr_hiexgene_median_lst = genelist(dr_tpm, dr_tpm_median)\n"
   ]
  },
  {
   "cell_type": "code",
   "execution_count": 166,
   "id": "3c9ff962",
   "metadata": {},
   "outputs": [
    {
     "name": "stdout",
     "output_type": "stream",
     "text": [
      "Above MEAN\n",
      "hs: 9992 of 63769 genes with TPM greater than 16.628\n",
      "at: 7710 of 33694 genes with TPM greater than 29.781\n",
      "dr: 7576 of 47143 genes with TPM greater than 21.987\n",
      "Above MEDIAN\n",
      "hs: 47427 of 63769 genes with TPM greater than 0.023274\n",
      "at: 19121 of 33694 genes with TPM greater than 2.8996\n",
      "dr: 31875 of 47143 genes with TPM greater than 0.15913\n"
     ]
    }
   ],
   "source": [
    "print('Above MEAN')\n",
    "print('hs: {} of {} genes with TPM greater than {:.5}'.format(hs_hiexgene_mean_df.shape[0], hs_tpm.shape[0], hs_tpm_mean))\n",
    "print('at: {} of {} genes with TPM greater than {:.5}'.format(at_hiexgene_mean_df.shape[0], at_tpm.shape[0], at_tpm_mean))\n",
    "print('dr: {} of {} genes with TPM greater than {:.5}'.format(dr_hiexgene_mean_df.shape[0], dr_tpm.shape[0], dr_tpm_mean))\n",
    "\n",
    "print('Above MEDIAN')\n",
    "print('hs: {} of {} genes with TPM greater than {:.5}'.format(hs_hiexgene_median_df.shape[0], hs_tpm.shape[0], hs_tpm_median))\n",
    "print('at: {} of {} genes with TPM greater than {:.5}'.format(at_hiexgene_median_df.shape[0], at_tpm.shape[0], at_tpm_median))\n",
    "print('dr: {} of {} genes with TPM greater than {:.5}'.format(dr_hiexgene_median_df.shape[0], dr_tpm.shape[0], dr_tpm_median))\n"
   ]
  },
  {
   "cell_type": "code",
   "execution_count": 179,
   "id": "459de567",
   "metadata": {},
   "outputs": [],
   "source": [
    "# write gene list to file\n",
    "with open(r'../Data/at_hiexpr_median_lst.txt', 'w') as fp:\n",
    "    for item in at_hiexgene_median_lst:\n",
    "        # write each item on a new line\n",
    "        fp.write(\"%s\\n\" % item)"
   ]
  },
  {
   "cell_type": "code",
   "execution_count": 157,
   "id": "300665da",
   "metadata": {},
   "outputs": [
    {
     "data": {
      "text/plain": [
       "DescribeResult(nobs=3006910, minmax=(0.0, 774786.5), mean=16.628343826687207, variance=3590007.8581219157, skewness=376.37316621469654, kurtosis=145351.99713218026)"
      ]
     },
     "execution_count": 157,
     "metadata": {},
     "output_type": "execute_result"
    }
   ],
   "source": [
    "describe(hs_tpm[hs_tpmcols].stack())"
   ]
  },
  {
   "cell_type": "code",
   "execution_count": 158,
   "id": "145ca36f",
   "metadata": {},
   "outputs": [
    {
     "data": {
      "text/plain": [
       "DescribeResult(nobs=1007370, minmax=(0.0, 79521.655596), mean=29.780519551238374, variance=191602.34089137646, skewness=126.38642762925518, kurtosis=18781.2553287411)"
      ]
     },
     "execution_count": 158,
     "metadata": {},
     "output_type": "execute_result"
    }
   ],
   "source": [
    "describe(at_tpm[at_tpmcols].stack())"
   ]
  },
  {
   "cell_type": "code",
   "execution_count": 159,
   "id": "1e65d496",
   "metadata": {},
   "outputs": [
    {
     "data": {
      "text/plain": [
       "DescribeResult(nobs=2728944, minmax=(0.0, 45165.839844), mean=21.986522002296855, variance=94012.73168713611, skewness=50.8343776665543, kurtosis=4059.149402215809)"
      ]
     },
     "execution_count": 159,
     "metadata": {},
     "output_type": "execute_result"
    }
   ],
   "source": [
    "describe(dr_tpm[dr_tpmcols].stack())"
   ]
  },
  {
   "cell_type": "code",
   "execution_count": 176,
   "id": "6ba1e7b7",
   "metadata": {},
   "outputs": [],
   "source": [
    "#filter files for genes expressed above median\n",
    "# 'merged_gene_counts.txt', 'quant.sf', 'X.genes.results'\n",
    "folders = ['sfc', 'hfc', 'ssal', 'srsem', 'psal']\n",
    "danio = ['SRR3655791', 'SRR3655792', 'SRR3655793', 'SRR3655794', 'SRR3655795', 'SRR3655796', 'SRR3655797', 'SRR3655798', 'SRR3655799', 'SRR3655800', 'SRR3655801', 'SRR3655802']\n",
    "human = ['A1', 'A2', 'A3', 'A4', 'A5', 'B1', 'B2','B3', 'B4', 'B5']\n",
    "tair = ['flight1', 'flight2', 'flight3', 'ground1', 'ground2', 'ground3']"
   ]
  },
  {
   "cell_type": "code",
   "execution_count": 186,
   "id": "8f7ca574",
   "metadata": {},
   "outputs": [],
   "source": [
    "#dr_df_all: gene_name and gene_id are equal (i.e a1cf)\n",
    "# extract gene_name from GRCz11.gtf\n",
    "dr_idname_p = '../Data/danio_gene_idname.tsv'\n",
    "dr_idname = pd.read_csv(dr_idname_p, sep='\\t')\n",
    "# strip brackets aroud gene_name\n",
    "dr_idname['genename'] = dr_idname['gene_name'].str[2:-2]\n",
    "dr_idname = dr_idname.drop('gene_name', axis=1).rename(columns={'genename':'gene_name'})    "
   ]
  },
  {
   "cell_type": "code",
   "execution_count": 211,
   "id": "cd91fec7",
   "metadata": {},
   "outputs": [],
   "source": [
    "# filter ssal and psal output\n",
    "def filterquantsf(slist, folder, pipe, flist):\n",
    "    for s in slist:\n",
    "        df = pd.read_csv('../Data/{}/{}/{}/quant.sf'.format(folder, pipe, s), sep='\\t')\n",
    "        #if (slist == danio):\n",
    "        #    df = df.drop('gene_name', axis=1).merge(dr_idname, left_on='Geneid', right_on='gene_name').drop('Geneid', axis=1)\n",
    "        df_filt = df[df['Name'].isin(flist)]\n",
    "        if not os.path.exists('../Data/{}/{}/filtered/{}/'.format(folder, pipe, s)):\n",
    "            os.makedirs('../Data/{}/{}/filtered/{}/'.format(folder, pipe, s))\n",
    "        df_filt.to_csv('../Data/{}/{}/filtered/{}/quant.sf'.format(folder, pipe, s))\n",
    "\n",
    "def filterrsem(slist, folder, pipe, flist):\n",
    "    for s in slist:\n",
    "        df = pd.read_csv('../Data/{}/{}/{}.genes.results'.format(folder, pipe, s), sep='\\t')\n",
    "        #if (slist == danio):\n",
    "        #    df = df.drop('gene_name', axis=1).merge(dr_idname, left_on='Geneid', right_on='gene_name').drop('Geneid', axis=1)\n",
    "        df_filt = df[df['gene_id'].isin(flist)]\n",
    "        if not os.path.exists('../Data/{}/{}/filtered/'.format(folder, pipe)):\n",
    "            os.makedirs('../Data/{}/{}/filtered/'.format(folder, pipe))\n",
    "        df_filt.to_csv('../Data/{}/{}/filtered/{}.genes.results'.format(folder, pipe, s))\n",
    "\n",
    "def filterfeaturecounts(folder, pipe, flist):\n",
    "    df = pd.read_csv('../Data/{}/{}/merged_gene_counts.txt'.format(folder, pipe), sep='\\t')\n",
    "    df_filt = df[df['Geneid'].isin(flist)]\n",
    "    if not os.path.exists('../Data/{}/{}/filtered/'.format(folder, pipe)):\n",
    "        os.makedirs('../Data/{}/{}/filtered/'.format(folder, pipe))\n",
    "    df_filt.to_csv('../Data/{}/{}/filtered/merged_gene_counts.txt'.format(folder, pipe))"
   ]
  },
  {
   "cell_type": "code",
   "execution_count": 212,
   "id": "b4f8b924",
   "metadata": {},
   "outputs": [],
   "source": [
    "filterquantsf(danio, 'rnaseq_daniodata', 'ssal', dr_hiexgene_median_lst)\n",
    "filterquantsf(danio, 'rnaseq_daniodata', 'psal', dr_hiexgene_median_lst)\n",
    "filterrsem(danio, 'rnaseq_daniodata', 'srsem', dr_hiexgene_median_lst)\n",
    "filterfeaturecounts('rnaseq_daniodata', 'sfc', dr_hiexgene_median_lst)\n",
    "filterfeaturecounts('rnaseq_daniodata', 'hfc', dr_hiexgene_median_lst)"
   ]
  },
  {
   "cell_type": "code",
   "execution_count": 213,
   "id": "f38deb7c",
   "metadata": {},
   "outputs": [],
   "source": [
    "filterquantsf(human, 'rnaseq_hsdata', 'ssal', hs_hiexgene_median_lst)\n",
    "filterquantsf(human, 'rnaseq_hsdata', 'psal', hs_hiexgene_median_lst)\n",
    "filterrsem(human, 'rnaseq_hsdata', 'srsem', hs_hiexgene_median_lst)\n",
    "filterfeaturecounts('rnaseq_hsdata', 'sfc', hs_hiexgene_median_lst)\n",
    "filterfeaturecounts('rnaseq_hsdata', 'hfc', hs_hiexgene_median_lst)"
   ]
  },
  {
   "cell_type": "code",
   "execution_count": 214,
   "id": "f6db3fb7",
   "metadata": {},
   "outputs": [
    {
     "ename": "FileNotFoundError",
     "evalue": "[Errno 2] No such file or directory: '../Data/rnaseq_tairdata/srsem/SRR3655791.genes.results'",
     "output_type": "error",
     "traceback": [
      "\u001b[0;31m---------------------------------------------------------------------------\u001b[0m",
      "\u001b[0;31mFileNotFoundError\u001b[0m                         Traceback (most recent call last)",
      "Cell \u001b[0;32mIn [214], line 3\u001b[0m\n\u001b[1;32m      1\u001b[0m filterquantsf(tair, \u001b[38;5;124m'\u001b[39m\u001b[38;5;124mrnaseq_tairdata\u001b[39m\u001b[38;5;124m'\u001b[39m, \u001b[38;5;124m'\u001b[39m\u001b[38;5;124mssal\u001b[39m\u001b[38;5;124m'\u001b[39m, at_hiexgene_median_lst)\n\u001b[1;32m      2\u001b[0m filterquantsf(tair, \u001b[38;5;124m'\u001b[39m\u001b[38;5;124mrnaseq_tairdata\u001b[39m\u001b[38;5;124m'\u001b[39m, \u001b[38;5;124m'\u001b[39m\u001b[38;5;124mpsal\u001b[39m\u001b[38;5;124m'\u001b[39m, at_hiexgene_median_lst)\n\u001b[0;32m----> 3\u001b[0m filterrsem(danio, \u001b[38;5;124m'\u001b[39m\u001b[38;5;124mrnaseq_tairdata\u001b[39m\u001b[38;5;124m'\u001b[39m, \u001b[38;5;124m'\u001b[39m\u001b[38;5;124msrsem\u001b[39m\u001b[38;5;124m'\u001b[39m, at_hiexgene_median_lst)\n\u001b[1;32m      4\u001b[0m filterfeaturecounts(\u001b[38;5;124m'\u001b[39m\u001b[38;5;124mrnaseq_tairdata\u001b[39m\u001b[38;5;124m'\u001b[39m, \u001b[38;5;124m'\u001b[39m\u001b[38;5;124msfc\u001b[39m\u001b[38;5;124m'\u001b[39m, at_hiexgene_median_lst)\n\u001b[1;32m      5\u001b[0m filterfeaturecounts(\u001b[38;5;124m'\u001b[39m\u001b[38;5;124mrnaseq_tairdata\u001b[39m\u001b[38;5;124m'\u001b[39m, \u001b[38;5;124m'\u001b[39m\u001b[38;5;124mhfc\u001b[39m\u001b[38;5;124m'\u001b[39m, at_hiexgene_median_lst)\n",
      "Cell \u001b[0;32mIn [211], line 14\u001b[0m, in \u001b[0;36mfilterrsem\u001b[0;34m(slist, folder, pipe, flist)\u001b[0m\n\u001b[1;32m     12\u001b[0m \u001b[38;5;28;01mdef\u001b[39;00m \u001b[38;5;21mfilterrsem\u001b[39m(slist, folder, pipe, flist):\n\u001b[1;32m     13\u001b[0m     \u001b[38;5;28;01mfor\u001b[39;00m s \u001b[38;5;129;01min\u001b[39;00m slist:\n\u001b[0;32m---> 14\u001b[0m         df \u001b[38;5;241m=\u001b[39m \u001b[43mpd\u001b[49m\u001b[38;5;241;43m.\u001b[39;49m\u001b[43mread_csv\u001b[49m\u001b[43m(\u001b[49m\u001b[38;5;124;43m'\u001b[39;49m\u001b[38;5;124;43m../Data/\u001b[39;49m\u001b[38;5;132;43;01m{}\u001b[39;49;00m\u001b[38;5;124;43m/\u001b[39;49m\u001b[38;5;132;43;01m{}\u001b[39;49;00m\u001b[38;5;124;43m/\u001b[39;49m\u001b[38;5;132;43;01m{}\u001b[39;49;00m\u001b[38;5;124;43m.genes.results\u001b[39;49m\u001b[38;5;124;43m'\u001b[39;49m\u001b[38;5;241;43m.\u001b[39;49m\u001b[43mformat\u001b[49m\u001b[43m(\u001b[49m\u001b[43mfolder\u001b[49m\u001b[43m,\u001b[49m\u001b[43m \u001b[49m\u001b[43mpipe\u001b[49m\u001b[43m,\u001b[49m\u001b[43m \u001b[49m\u001b[43ms\u001b[49m\u001b[43m)\u001b[49m\u001b[43m,\u001b[49m\u001b[43m \u001b[49m\u001b[43msep\u001b[49m\u001b[38;5;241;43m=\u001b[39;49m\u001b[38;5;124;43m'\u001b[39;49m\u001b[38;5;130;43;01m\\t\u001b[39;49;00m\u001b[38;5;124;43m'\u001b[39;49m\u001b[43m)\u001b[49m\n\u001b[1;32m     15\u001b[0m         \u001b[38;5;66;03m#if (slist == danio):\u001b[39;00m\n\u001b[1;32m     16\u001b[0m         \u001b[38;5;66;03m#    df = df.drop('gene_name', axis=1).merge(dr_idname, left_on='Geneid', right_on='gene_name').drop('Geneid', axis=1)\u001b[39;00m\n\u001b[1;32m     17\u001b[0m         df_filt \u001b[38;5;241m=\u001b[39m df[df[\u001b[38;5;124m'\u001b[39m\u001b[38;5;124mgene_id\u001b[39m\u001b[38;5;124m'\u001b[39m]\u001b[38;5;241m.\u001b[39misin(flist)]\n",
      "File \u001b[0;32m~/opt/miniconda3/lib/python3.9/site-packages/pandas/io/parsers.py:610\u001b[0m, in \u001b[0;36mread_csv\u001b[0;34m(filepath_or_buffer, sep, delimiter, header, names, index_col, usecols, squeeze, prefix, mangle_dupe_cols, dtype, engine, converters, true_values, false_values, skipinitialspace, skiprows, skipfooter, nrows, na_values, keep_default_na, na_filter, verbose, skip_blank_lines, parse_dates, infer_datetime_format, keep_date_col, date_parser, dayfirst, cache_dates, iterator, chunksize, compression, thousands, decimal, lineterminator, quotechar, quoting, doublequote, escapechar, comment, encoding, dialect, error_bad_lines, warn_bad_lines, delim_whitespace, low_memory, memory_map, float_precision, storage_options)\u001b[0m\n\u001b[1;32m    605\u001b[0m kwds_defaults \u001b[38;5;241m=\u001b[39m _refine_defaults_read(\n\u001b[1;32m    606\u001b[0m     dialect, delimiter, delim_whitespace, engine, sep, defaults\u001b[38;5;241m=\u001b[39m{\u001b[38;5;124m\"\u001b[39m\u001b[38;5;124mdelimiter\u001b[39m\u001b[38;5;124m\"\u001b[39m: \u001b[38;5;124m\"\u001b[39m\u001b[38;5;124m,\u001b[39m\u001b[38;5;124m\"\u001b[39m}\n\u001b[1;32m    607\u001b[0m )\n\u001b[1;32m    608\u001b[0m kwds\u001b[38;5;241m.\u001b[39mupdate(kwds_defaults)\n\u001b[0;32m--> 610\u001b[0m \u001b[38;5;28;01mreturn\u001b[39;00m \u001b[43m_read\u001b[49m\u001b[43m(\u001b[49m\u001b[43mfilepath_or_buffer\u001b[49m\u001b[43m,\u001b[49m\u001b[43m \u001b[49m\u001b[43mkwds\u001b[49m\u001b[43m)\u001b[49m\n",
      "File \u001b[0;32m~/opt/miniconda3/lib/python3.9/site-packages/pandas/io/parsers.py:462\u001b[0m, in \u001b[0;36m_read\u001b[0;34m(filepath_or_buffer, kwds)\u001b[0m\n\u001b[1;32m    459\u001b[0m _validate_names(kwds\u001b[38;5;241m.\u001b[39mget(\u001b[38;5;124m\"\u001b[39m\u001b[38;5;124mnames\u001b[39m\u001b[38;5;124m\"\u001b[39m, \u001b[38;5;28;01mNone\u001b[39;00m))\n\u001b[1;32m    461\u001b[0m \u001b[38;5;66;03m# Create the parser.\u001b[39;00m\n\u001b[0;32m--> 462\u001b[0m parser \u001b[38;5;241m=\u001b[39m \u001b[43mTextFileReader\u001b[49m\u001b[43m(\u001b[49m\u001b[43mfilepath_or_buffer\u001b[49m\u001b[43m,\u001b[49m\u001b[43m \u001b[49m\u001b[38;5;241;43m*\u001b[39;49m\u001b[38;5;241;43m*\u001b[39;49m\u001b[43mkwds\u001b[49m\u001b[43m)\u001b[49m\n\u001b[1;32m    464\u001b[0m \u001b[38;5;28;01mif\u001b[39;00m chunksize \u001b[38;5;129;01mor\u001b[39;00m iterator:\n\u001b[1;32m    465\u001b[0m     \u001b[38;5;28;01mreturn\u001b[39;00m parser\n",
      "File \u001b[0;32m~/opt/miniconda3/lib/python3.9/site-packages/pandas/io/parsers.py:819\u001b[0m, in \u001b[0;36mTextFileReader.__init__\u001b[0;34m(self, f, engine, **kwds)\u001b[0m\n\u001b[1;32m    816\u001b[0m \u001b[38;5;28;01mif\u001b[39;00m \u001b[38;5;124m\"\u001b[39m\u001b[38;5;124mhas_index_names\u001b[39m\u001b[38;5;124m\"\u001b[39m \u001b[38;5;129;01min\u001b[39;00m kwds:\n\u001b[1;32m    817\u001b[0m     \u001b[38;5;28mself\u001b[39m\u001b[38;5;241m.\u001b[39moptions[\u001b[38;5;124m\"\u001b[39m\u001b[38;5;124mhas_index_names\u001b[39m\u001b[38;5;124m\"\u001b[39m] \u001b[38;5;241m=\u001b[39m kwds[\u001b[38;5;124m\"\u001b[39m\u001b[38;5;124mhas_index_names\u001b[39m\u001b[38;5;124m\"\u001b[39m]\n\u001b[0;32m--> 819\u001b[0m \u001b[38;5;28mself\u001b[39m\u001b[38;5;241m.\u001b[39m_engine \u001b[38;5;241m=\u001b[39m \u001b[38;5;28;43mself\u001b[39;49m\u001b[38;5;241;43m.\u001b[39;49m\u001b[43m_make_engine\u001b[49m\u001b[43m(\u001b[49m\u001b[38;5;28;43mself\u001b[39;49m\u001b[38;5;241;43m.\u001b[39;49m\u001b[43mengine\u001b[49m\u001b[43m)\u001b[49m\n",
      "File \u001b[0;32m~/opt/miniconda3/lib/python3.9/site-packages/pandas/io/parsers.py:1050\u001b[0m, in \u001b[0;36mTextFileReader._make_engine\u001b[0;34m(self, engine)\u001b[0m\n\u001b[1;32m   1046\u001b[0m     \u001b[38;5;28;01mraise\u001b[39;00m \u001b[38;5;167;01mValueError\u001b[39;00m(\n\u001b[1;32m   1047\u001b[0m         \u001b[38;5;124mf\u001b[39m\u001b[38;5;124m\"\u001b[39m\u001b[38;5;124mUnknown engine: \u001b[39m\u001b[38;5;132;01m{\u001b[39;00mengine\u001b[38;5;132;01m}\u001b[39;00m\u001b[38;5;124m (valid options are \u001b[39m\u001b[38;5;132;01m{\u001b[39;00mmapping\u001b[38;5;241m.\u001b[39mkeys()\u001b[38;5;132;01m}\u001b[39;00m\u001b[38;5;124m)\u001b[39m\u001b[38;5;124m\"\u001b[39m\n\u001b[1;32m   1048\u001b[0m     )\n\u001b[1;32m   1049\u001b[0m \u001b[38;5;66;03m# error: Too many arguments for \"ParserBase\"\u001b[39;00m\n\u001b[0;32m-> 1050\u001b[0m \u001b[38;5;28;01mreturn\u001b[39;00m \u001b[43mmapping\u001b[49m\u001b[43m[\u001b[49m\u001b[43mengine\u001b[49m\u001b[43m]\u001b[49m\u001b[43m(\u001b[49m\u001b[38;5;28;43mself\u001b[39;49m\u001b[38;5;241;43m.\u001b[39;49m\u001b[43mf\u001b[49m\u001b[43m,\u001b[49m\u001b[43m \u001b[49m\u001b[38;5;241;43m*\u001b[39;49m\u001b[38;5;241;43m*\u001b[39;49m\u001b[38;5;28;43mself\u001b[39;49m\u001b[38;5;241;43m.\u001b[39;49m\u001b[43moptions\u001b[49m\u001b[43m)\u001b[49m\n",
      "File \u001b[0;32m~/opt/miniconda3/lib/python3.9/site-packages/pandas/io/parsers.py:1867\u001b[0m, in \u001b[0;36mCParserWrapper.__init__\u001b[0;34m(self, src, **kwds)\u001b[0m\n\u001b[1;32m   1864\u001b[0m kwds[\u001b[38;5;124m\"\u001b[39m\u001b[38;5;124musecols\u001b[39m\u001b[38;5;124m\"\u001b[39m] \u001b[38;5;241m=\u001b[39m \u001b[38;5;28mself\u001b[39m\u001b[38;5;241m.\u001b[39musecols\n\u001b[1;32m   1866\u001b[0m \u001b[38;5;66;03m# open handles\u001b[39;00m\n\u001b[0;32m-> 1867\u001b[0m \u001b[38;5;28;43mself\u001b[39;49m\u001b[38;5;241;43m.\u001b[39;49m\u001b[43m_open_handles\u001b[49m\u001b[43m(\u001b[49m\u001b[43msrc\u001b[49m\u001b[43m,\u001b[49m\u001b[43m \u001b[49m\u001b[43mkwds\u001b[49m\u001b[43m)\u001b[49m\n\u001b[1;32m   1868\u001b[0m \u001b[38;5;28;01massert\u001b[39;00m \u001b[38;5;28mself\u001b[39m\u001b[38;5;241m.\u001b[39mhandles \u001b[38;5;129;01mis\u001b[39;00m \u001b[38;5;129;01mnot\u001b[39;00m \u001b[38;5;28;01mNone\u001b[39;00m\n\u001b[1;32m   1869\u001b[0m \u001b[38;5;28;01mfor\u001b[39;00m key \u001b[38;5;129;01min\u001b[39;00m (\u001b[38;5;124m\"\u001b[39m\u001b[38;5;124mstorage_options\u001b[39m\u001b[38;5;124m\"\u001b[39m, \u001b[38;5;124m\"\u001b[39m\u001b[38;5;124mencoding\u001b[39m\u001b[38;5;124m\"\u001b[39m, \u001b[38;5;124m\"\u001b[39m\u001b[38;5;124mmemory_map\u001b[39m\u001b[38;5;124m\"\u001b[39m, \u001b[38;5;124m\"\u001b[39m\u001b[38;5;124mcompression\u001b[39m\u001b[38;5;124m\"\u001b[39m):\n",
      "File \u001b[0;32m~/opt/miniconda3/lib/python3.9/site-packages/pandas/io/parsers.py:1362\u001b[0m, in \u001b[0;36mParserBase._open_handles\u001b[0;34m(self, src, kwds)\u001b[0m\n\u001b[1;32m   1358\u001b[0m \u001b[38;5;28;01mdef\u001b[39;00m \u001b[38;5;21m_open_handles\u001b[39m(\u001b[38;5;28mself\u001b[39m, src: FilePathOrBuffer, kwds: Dict[\u001b[38;5;28mstr\u001b[39m, Any]) \u001b[38;5;241m-\u001b[39m\u001b[38;5;241m>\u001b[39m \u001b[38;5;28;01mNone\u001b[39;00m:\n\u001b[1;32m   1359\u001b[0m     \u001b[38;5;124;03m\"\"\"\u001b[39;00m\n\u001b[1;32m   1360\u001b[0m \u001b[38;5;124;03m    Let the readers open IOHanldes after they are done with their potential raises.\u001b[39;00m\n\u001b[1;32m   1361\u001b[0m \u001b[38;5;124;03m    \"\"\"\u001b[39;00m\n\u001b[0;32m-> 1362\u001b[0m     \u001b[38;5;28mself\u001b[39m\u001b[38;5;241m.\u001b[39mhandles \u001b[38;5;241m=\u001b[39m \u001b[43mget_handle\u001b[49m\u001b[43m(\u001b[49m\n\u001b[1;32m   1363\u001b[0m \u001b[43m        \u001b[49m\u001b[43msrc\u001b[49m\u001b[43m,\u001b[49m\n\u001b[1;32m   1364\u001b[0m \u001b[43m        \u001b[49m\u001b[38;5;124;43m\"\u001b[39;49m\u001b[38;5;124;43mr\u001b[39;49m\u001b[38;5;124;43m\"\u001b[39;49m\u001b[43m,\u001b[49m\n\u001b[1;32m   1365\u001b[0m \u001b[43m        \u001b[49m\u001b[43mencoding\u001b[49m\u001b[38;5;241;43m=\u001b[39;49m\u001b[43mkwds\u001b[49m\u001b[38;5;241;43m.\u001b[39;49m\u001b[43mget\u001b[49m\u001b[43m(\u001b[49m\u001b[38;5;124;43m\"\u001b[39;49m\u001b[38;5;124;43mencoding\u001b[39;49m\u001b[38;5;124;43m\"\u001b[39;49m\u001b[43m,\u001b[49m\u001b[43m \u001b[49m\u001b[38;5;28;43;01mNone\u001b[39;49;00m\u001b[43m)\u001b[49m\u001b[43m,\u001b[49m\n\u001b[1;32m   1366\u001b[0m \u001b[43m        \u001b[49m\u001b[43mcompression\u001b[49m\u001b[38;5;241;43m=\u001b[39;49m\u001b[43mkwds\u001b[49m\u001b[38;5;241;43m.\u001b[39;49m\u001b[43mget\u001b[49m\u001b[43m(\u001b[49m\u001b[38;5;124;43m\"\u001b[39;49m\u001b[38;5;124;43mcompression\u001b[39;49m\u001b[38;5;124;43m\"\u001b[39;49m\u001b[43m,\u001b[49m\u001b[43m \u001b[49m\u001b[38;5;28;43;01mNone\u001b[39;49;00m\u001b[43m)\u001b[49m\u001b[43m,\u001b[49m\n\u001b[1;32m   1367\u001b[0m \u001b[43m        \u001b[49m\u001b[43mmemory_map\u001b[49m\u001b[38;5;241;43m=\u001b[39;49m\u001b[43mkwds\u001b[49m\u001b[38;5;241;43m.\u001b[39;49m\u001b[43mget\u001b[49m\u001b[43m(\u001b[49m\u001b[38;5;124;43m\"\u001b[39;49m\u001b[38;5;124;43mmemory_map\u001b[39;49m\u001b[38;5;124;43m\"\u001b[39;49m\u001b[43m,\u001b[49m\u001b[43m \u001b[49m\u001b[38;5;28;43;01mFalse\u001b[39;49;00m\u001b[43m)\u001b[49m\u001b[43m,\u001b[49m\n\u001b[1;32m   1368\u001b[0m \u001b[43m        \u001b[49m\u001b[43mstorage_options\u001b[49m\u001b[38;5;241;43m=\u001b[39;49m\u001b[43mkwds\u001b[49m\u001b[38;5;241;43m.\u001b[39;49m\u001b[43mget\u001b[49m\u001b[43m(\u001b[49m\u001b[38;5;124;43m\"\u001b[39;49m\u001b[38;5;124;43mstorage_options\u001b[39;49m\u001b[38;5;124;43m\"\u001b[39;49m\u001b[43m,\u001b[49m\u001b[43m \u001b[49m\u001b[38;5;28;43;01mNone\u001b[39;49;00m\u001b[43m)\u001b[49m\u001b[43m,\u001b[49m\n\u001b[1;32m   1369\u001b[0m \u001b[43m    \u001b[49m\u001b[43m)\u001b[49m\n",
      "File \u001b[0;32m~/opt/miniconda3/lib/python3.9/site-packages/pandas/io/common.py:642\u001b[0m, in \u001b[0;36mget_handle\u001b[0;34m(path_or_buf, mode, encoding, compression, memory_map, is_text, errors, storage_options)\u001b[0m\n\u001b[1;32m    640\u001b[0m         errors \u001b[38;5;241m=\u001b[39m \u001b[38;5;124m\"\u001b[39m\u001b[38;5;124mreplace\u001b[39m\u001b[38;5;124m\"\u001b[39m\n\u001b[1;32m    641\u001b[0m     \u001b[38;5;66;03m# Encoding\u001b[39;00m\n\u001b[0;32m--> 642\u001b[0m     handle \u001b[38;5;241m=\u001b[39m \u001b[38;5;28;43mopen\u001b[39;49m\u001b[43m(\u001b[49m\n\u001b[1;32m    643\u001b[0m \u001b[43m        \u001b[49m\u001b[43mhandle\u001b[49m\u001b[43m,\u001b[49m\n\u001b[1;32m    644\u001b[0m \u001b[43m        \u001b[49m\u001b[43mioargs\u001b[49m\u001b[38;5;241;43m.\u001b[39;49m\u001b[43mmode\u001b[49m\u001b[43m,\u001b[49m\n\u001b[1;32m    645\u001b[0m \u001b[43m        \u001b[49m\u001b[43mencoding\u001b[49m\u001b[38;5;241;43m=\u001b[39;49m\u001b[43mioargs\u001b[49m\u001b[38;5;241;43m.\u001b[39;49m\u001b[43mencoding\u001b[49m\u001b[43m,\u001b[49m\n\u001b[1;32m    646\u001b[0m \u001b[43m        \u001b[49m\u001b[43merrors\u001b[49m\u001b[38;5;241;43m=\u001b[39;49m\u001b[43merrors\u001b[49m\u001b[43m,\u001b[49m\n\u001b[1;32m    647\u001b[0m \u001b[43m        \u001b[49m\u001b[43mnewline\u001b[49m\u001b[38;5;241;43m=\u001b[39;49m\u001b[38;5;124;43m\"\u001b[39;49m\u001b[38;5;124;43m\"\u001b[39;49m\u001b[43m,\u001b[49m\n\u001b[1;32m    648\u001b[0m \u001b[43m    \u001b[49m\u001b[43m)\u001b[49m\n\u001b[1;32m    649\u001b[0m \u001b[38;5;28;01melse\u001b[39;00m:\n\u001b[1;32m    650\u001b[0m     \u001b[38;5;66;03m# Binary mode\u001b[39;00m\n\u001b[1;32m    651\u001b[0m     handle \u001b[38;5;241m=\u001b[39m \u001b[38;5;28mopen\u001b[39m(handle, ioargs\u001b[38;5;241m.\u001b[39mmode)\n",
      "\u001b[0;31mFileNotFoundError\u001b[0m: [Errno 2] No such file or directory: '../Data/rnaseq_tairdata/srsem/SRR3655791.genes.results'"
     ]
    }
   ],
   "source": [
    "filterquantsf(tair, 'rnaseq_tairdata', 'ssal', at_hiexgene_median_lst)\n",
    "filterquantsf(tair, 'rnaseq_tairdata', 'psal', at_hiexgene_median_lst)\n",
    "filterrsem(danio, 'rnaseq_tairdata', 'srsem', at_hiexgene_median_lst)\n",
    "filterfeaturecounts('rnaseq_tairdata', 'sfc', at_hiexgene_median_lst)\n",
    "filterfeaturecounts('rnaseq_tairdata', 'hfc', at_hiexgene_median_lst)"
   ]
  },
  {
   "cell_type": "code",
   "execution_count": 181,
   "id": "0b19637c",
   "metadata": {},
   "outputs": [],
   "source": [
    "# featurecounts Danio table: gene_name - replace NaN by gene_id\n",
    "# dr_starfc['gene_name'] = dr_starfc['gene_id']\n",
    "# dr_hisatfc['gene_name'] = dr_hisatfc['gene_id']\n",
    "# Salmon Arabidopsis table: strip \"transcript:\" from gene_id\n",
    "# at_starsal['gene_id'] = at_starsal['gene_id'].str.replace('transcript:', '')\n",
    "# at_pseudosal['gene_id'] = at_pseudosal['gene_id'].str.replace('transcript:', '')"
   ]
  },
  {
   "cell_type": "code",
   "execution_count": null,
   "id": "62c97cd9",
   "metadata": {},
   "outputs": [],
   "source": [
    "#plt.boxplot(hs_tpm[hs_tpmcols].stack())\n",
    "#plt.boxplot(at_tpm[at_tpmcols].stack())\n",
    "#plt.violinplot(dr_tpm[dr_tpmcols].stack())"
   ]
  },
  {
   "cell_type": "code",
   "execution_count": 13,
   "id": "cb055914",
   "metadata": {},
   "outputs": [],
   "source": [
    "# read DEseq dataframes\n",
    "hs_de = pd.read_csv('../Data/hs_df_all.tsv', sep='\\t')\n",
    "at_de = pd.read_csv('../Data/at_df_all.tsv', sep='\\t')\n",
    "dr_de = pd.read_csv('../Data/dr_df_all.tsv', sep='\\t')"
   ]
  }
 ],
 "metadata": {
  "kernelspec": {
   "display_name": "Python 3 (ipykernel)",
   "language": "python",
   "name": "python3"
  },
  "language_info": {
   "codemirror_mode": {
    "name": "ipython",
    "version": 3
   },
   "file_extension": ".py",
   "mimetype": "text/x-python",
   "name": "python",
   "nbconvert_exporter": "python",
   "pygments_lexer": "ipython3",
   "version": "3.9.1"
  }
 },
 "nbformat": 4,
 "nbformat_minor": 5
}
